{
 "cells": [
  {
   "cell_type": "code",
   "execution_count": 3,
   "id": "fa3e2612",
   "metadata": {},
   "outputs": [],
   "source": [
    "# Importing openai library and key\n",
    "from openai import OpenAI\n",
    "import os\n",
    "from dotenv import load_dotenv\n",
    "load_dotenv()\n",
    "\n",
    "client = OpenAI(api_key=os.getenv('OPENAI_API_KEY'))"
   ]
  },
  {
   "cell_type": "code",
   "execution_count": null,
   "id": "060fd966",
   "metadata": {},
   "outputs": [
    {
     "name": "stdout",
     "output_type": "stream",
     "text": [
      "An API, or Application Programming Interface, serves several key purposes:\n",
      "\n",
      "1. **Communication**: It allows different software applications to communicate with each other, enabling them to share data and functionality.\n",
      "\n",
      "2. **Abstraction**: APIs provide a simplified interface to complex systems, allowing developers to use specific features without needing to understand the underlying code or architecture.\n",
      "\n",
      "3. **Integration**: They facilitate the integration of different services and platforms, enabling developers to build applications that leverage multiple technologies.\n",
      "\n",
      "4. **Modularity**: APIs promote modular design, allowing developers to create applications that can easily incorporate or replace components without affecting the entire system.\n",
      "\n",
      "5. **Efficiency**: By using APIs, developers can save time and resources, as they can utilize existing services and functionalities rather than building everything from scratch.\n",
      "\n",
      "6. **Innovation**: APIs enable developers to create new applications and services by combining existing ones, fostering innovation and collaboration within the tech ecosystem.\n",
      "\n",
      "Overall, APIs are essential for modern software development, enabling interoperability and enhancing the capabilities of applications.\n"
     ]
    }
   ],
   "source": [
    "completion = client.chat.completions.create(\n",
    "    model=\"gpt-4o-mini\",\n",
    "    store=True,\n",
    "    max_tokens=100,\n",
    "    messages=[\n",
    "        {\"role\": \"user\", \"content\": \"What is the purpose of an API?\"}\n",
    "    ],\n",
    "    temperature=0\n",
    ")\n",
    "\n",
    "print(completion.choices[0].message.content)"
   ]
  }
 ],
 "metadata": {
  "kernelspec": {
   "display_name": "spp",
   "language": "python",
   "name": "python3"
  },
  "language_info": {
   "codemirror_mode": {
    "name": "ipython",
    "version": 3
   },
   "file_extension": ".py",
   "mimetype": "text/x-python",
   "name": "python",
   "nbconvert_exporter": "python",
   "pygments_lexer": "ipython3",
   "version": "3.12.11"
  }
 },
 "nbformat": 4,
 "nbformat_minor": 5
}
