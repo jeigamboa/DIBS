{
 "cells": [
  {
   "cell_type": "code",
   "execution_count": 4,
   "id": "fa3e2612",
   "metadata": {},
   "outputs": [],
   "source": [
    "import numpy as np\n",
    "import pandas as pd\n",
    "\n",
    "# Importing openai library and dotenv to store secret key\n",
    "from openai import OpenAI\n",
    "import os\n",
    "from dotenv import load_dotenv\n",
    "load_dotenv()\n",
    "\n",
    "# Initializing client\n",
    "client = OpenAI(api_key=os.getenv('OPENAI_API_KEY'))"
   ]
  },
  {
   "cell_type": "code",
   "execution_count": 5,
   "id": "0bba7c49",
   "metadata": {},
   "outputs": [],
   "source": [
    "data = pd.read_csv('../Streamlit/data/Compiled_Data.csv') \n",
    "prompt = input()"
   ]
  },
  {
   "cell_type": "code",
   "execution_count": 6,
   "id": "060fd966",
   "metadata": {},
   "outputs": [
    {
     "name": "stdout",
     "output_type": "stream",
     "text": [
      "The nearest BPI branch to UP Diliman is BPI UP Technohub, located at latitude 14.657003 and longitude 121.056110.\n"
     ]
    }
   ],
   "source": [
    "# API completion usage with GPT-4o-mini (perhaps try out other models)\n",
    "completion = client.chat.completions.create(\n",
    "    model=\"gpt-4o-mini\",\n",
    "    store=True,\n",
    "    max_tokens=100,\n",
    "    messages=[\n",
    "        {\"role\": \"user\", \"content\": f\"Refer to {data}. Finish the answer within 100 tokens. {prompt}\"}\n",
    "    ],\n",
    "    temperature=0\n",
    ")\n",
    "\n",
    "print(completion.choices[0].message.content)"
   ]
  }
 ],
 "metadata": {
  "kernelspec": {
   "display_name": "spp",
   "language": "python",
   "name": "python3"
  },
  "language_info": {
   "codemirror_mode": {
    "name": "ipython",
    "version": 3
   },
   "file_extension": ".py",
   "mimetype": "text/x-python",
   "name": "python",
   "nbconvert_exporter": "python",
   "pygments_lexer": "ipython3",
   "version": "3.12.11"
  }
 },
 "nbformat": 4,
 "nbformat_minor": 5
}
