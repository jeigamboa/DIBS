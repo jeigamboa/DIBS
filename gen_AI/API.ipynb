{
 "cells": [
  {
   "cell_type": "code",
   "execution_count": 8,
   "id": "fa3e2612",
   "metadata": {},
   "outputs": [],
   "source": [
    "import numpy as np\n",
    "import pandas as pd\n",
    "\n",
    "# Importing openai library and dotenv to store secret key\n",
    "from openai import OpenAI\n",
    "import os\n",
    "from dotenv import load_dotenv\n",
    "load_dotenv()\n",
    "\n",
    "# Initializing client\n",
    "client = OpenAI(api_key=os.getenv('OPENAI_API_KEY'))"
   ]
  },
  {
   "cell_type": "code",
   "execution_count": 9,
   "id": "0bba7c49",
   "metadata": {},
   "outputs": [],
   "source": [
    "data = pd.read_csv('../Streamlit/data/Compiled_Data.csv') \n",
    "prompt = input()"
   ]
  },
  {
   "cell_type": "code",
   "execution_count": 10,
   "id": "060fd966",
   "metadata": {},
   "outputs": [
    {
     "name": "stdout",
     "output_type": "stream",
     "text": [
      "To find the eastmost BPI branch, we need to look for the branch with the highest longitude value. \n",
      "\n",
      "From the provided data, the branch with the highest longitude is:\n",
      "\n",
      "- **BPI Shopwise Libis - Express Banking Center** with a longitude of **121.080006**.\n",
      "\n",
      "Thus, the eastmost BPI branch is **BPI Shopwise Libis - Express Banking Center**.\n"
     ]
    }
   ],
   "source": [
    "# API completion usage with GPT-4o-mini (perhaps try out other models)\n",
    "completion = client.chat.completions.create(\n",
    "    model=\"gpt-4o-mini\",\n",
    "    store=True,\n",
    "    max_tokens=100,\n",
    "    messages=[\n",
    "        {\"role\": \"user\", \"content\": f\"Refer to {data}. {prompt}\"}\n",
    "    ],\n",
    "    temperature=0\n",
    ")\n",
    "\n",
    "print(completion.choices[0].message.content)"
   ]
  }
 ],
 "metadata": {
  "kernelspec": {
   "display_name": "spp",
   "language": "python",
   "name": "python3"
  },
  "language_info": {
   "codemirror_mode": {
    "name": "ipython",
    "version": 3
   },
   "file_extension": ".py",
   "mimetype": "text/x-python",
   "name": "python",
   "nbconvert_exporter": "python",
   "pygments_lexer": "ipython3",
   "version": "3.12.11"
  }
 },
 "nbformat": 4,
 "nbformat_minor": 5
}
