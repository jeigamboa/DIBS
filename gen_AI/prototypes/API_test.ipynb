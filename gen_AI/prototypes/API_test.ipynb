{
 "cells": [
  {
   "cell_type": "code",
   "execution_count": 4,
   "id": "fa3e2612",
   "metadata": {},
   "outputs": [],
   "source": [
    "import numpy as np\n",
    "import pandas as pd\n",
    "\n",
    "# Importing openai library and dotenv to store secret key\n",
    "from openai import OpenAI\n",
    "import os\n",
    "from dotenv import load_dotenv\n",
    "load_dotenv()\n",
    "\n",
    "# Initializing client\n",
    "client = OpenAI(api_key=os.getenv('OPENAI_API_KEY'))"
   ]
  },
  {
   "cell_type": "code",
   "execution_count": 5,
   "id": "0bba7c49",
   "metadata": {},
   "outputs": [],
   "source": [
    "branch_loc_data = pd.read_csv('data2/Compiled_Data.csv') \n",
    "brgy_pop_data = pd.read_csv('data2/barangay_population.csv')"
   ]
  },
  {
   "cell_type": "code",
   "execution_count": 6,
   "id": "060fd966",
   "metadata": {},
   "outputs": [
    {
     "name": "stdout",
     "output_type": "stream",
     "text": [
      "The leftmost BPI branch in the provided data is \"BPI Katipunan Loyola Heights,\" located at 325 Miranda Building, Katipunan Avenue, with a latitude of 14.640198 and a longitude of 121.074288.\n"
     ]
    }
   ],
   "source": [
    "# API completion usage with GPT-4o-mini (perhaps try out other models)\n",
    "prompt = input()\n",
    "\n",
    "completion = client.chat.completions.create(\n",
    "    model=\"gpt-4o-mini\",\n",
    "    store=True,\n",
    "    max_tokens=100,\n",
    "    messages=[\n",
    "        {\"role\": \"system\", \"content\": '''You are an assistant for managerial-level up to executive level bankers. \n",
    "         Your job is to deliver accurate and concise insights to business queries. If a query is irrelevant to\n",
    "         the database, abort generation and politely indicate the irrelevance.'''},\n",
    "        {\"role\": \"user\", \"content\": '''Irrelevant query such as: [What is the capital of X country?], \n",
    "         [Any questions relating to the user personally.]'''},\n",
    "        {\"role\": \"assistant\", \"content\": \"Our apologies, your query does not seem to be relevant.\"},\n",
    "        {\"role\": \"user\", \"content\": f\"Refer to {branch_loc_data}, {brgy_pop_data}. Finish the answer within 100 tokens. {prompt}\"}\n",
    "    ],\n",
    "    temperature=0\n",
    ")\n",
    "\n",
    "print(completion.choices[0].message.content)"
   ]
  }
 ],
 "metadata": {
  "kernelspec": {
   "display_name": "spp",
   "language": "python",
   "name": "python3"
  },
  "language_info": {
   "codemirror_mode": {
    "name": "ipython",
    "version": 3
   },
   "file_extension": ".py",
   "mimetype": "text/x-python",
   "name": "python",
   "nbconvert_exporter": "python",
   "pygments_lexer": "ipython3",
   "version": "3.12.11"
  }
 },
 "nbformat": 4,
 "nbformat_minor": 5
}
