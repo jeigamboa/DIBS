{
 "cells": [
  {
   "cell_type": "code",
   "execution_count": null,
   "id": "ee27a59e",
   "metadata": {},
   "outputs": [],
   "source": [
    "print(\"Hello, World!\")\n",
    "\n",
    "print(\"This is a test script.\")"
   ]
  }
 ],
 "metadata": {
  "language_info": {
   "name": "python"
  }
 },
 "nbformat": 4,
 "nbformat_minor": 5
}
